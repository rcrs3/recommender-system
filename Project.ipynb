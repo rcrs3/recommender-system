{
 "cells": [
  {
   "cell_type": "code",
   "execution_count": 4,
   "metadata": {
    "collapsed": true
   },
   "outputs": [],
   "source": [
    "import pandas as pd\n",
    "import re\n",
    "from bs4 import BeautifulSoup"
   ]
  },
  {
   "cell_type": "code",
   "execution_count": null,
   "metadata": {},
   "outputs": [],
   "source": [
    "movies = pd.read_csv('csv/movies.csv')\n",
    "user_rating = pd.read_csv('csv/ratings.csv')\n",
    "\n",
    "\n",
    "movies_genres = pd.DataFrame(columns = ['movieId', 'Action', 'Adventure', 'Animation', 'Children', 'Comedy', 'Crime', 'Documentary',\n",
    "                                       'Drama', 'Fantasy', 'Film-noir', 'Horror', 'Musical', 'Mystery', 'Romance', 'Sci-Fi',\n",
    "                                       'Thriller', 'War', 'Western'])\n",
    "\n",
    "genres = ['Action', 'Adventure', 'Animation', 'Children', 'Comedy', 'Crime', 'Documentary',\n",
    "                                       'Drama', 'Fantasy', 'Film-noir', 'Horror', 'Musical', 'Mystery', 'Romance', 'Sci-Fi',\n",
    "                                       'Thriller', 'War', 'Western']\n",
    "\n",
    "#movies_genres\n",
    "index = 0\n",
    "for i in movies.itertuples(index = False):\n",
    "        has_genre = []\n",
    "        has_genre.append(i[0])\n",
    "        genre_movie = i[2].split('|')\n",
    "        index_aux = 0\n",
    "        for j in range(len(genres)):\n",
    "            has = False\n",
    "            for k in range(index_aux, len(genre_movie)):\n",
    "                if genres[j] == genre_movie[k]:\n",
    "                    has_genre.append(1)\n",
    "                    has = True\n",
    "                    index_aux += 1\n",
    "                    break\n",
    "                    \n",
    "            if(has == False):\n",
    "                has_genre.append(0)\n",
    "        movies_genres.loc[index] = has_genre\n",
    "        index += 1\n",
    "                \n",
    "movies_genres"
   ]
  },
  {
   "cell_type": "code",
   "execution_count": null,
   "metadata": {
    "collapsed": true
   },
   "outputs": [],
   "source": []
  }
 ],
 "metadata": {
  "kernelspec": {
   "display_name": "Python 3",
   "language": "python",
   "name": "python3"
  },
  "language_info": {
   "codemirror_mode": {
    "name": "ipython",
    "version": 3
   },
   "file_extension": ".py",
   "mimetype": "text/x-python",
   "name": "python",
   "nbconvert_exporter": "python",
   "pygments_lexer": "ipython3",
   "version": "3.6.1"
  }
 },
 "nbformat": 4,
 "nbformat_minor": 2
}
